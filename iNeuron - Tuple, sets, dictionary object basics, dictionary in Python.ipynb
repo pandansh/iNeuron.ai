{
 "cells": [
  {
   "cell_type": "code",
   "execution_count": 132,
   "id": "631ffc78",
   "metadata": {},
   "outputs": [
    {
     "data": {
      "text/plain": [
       "list"
      ]
     },
     "execution_count": 132,
     "metadata": {},
     "output_type": "execute_result"
    }
   ],
   "source": [
    "# About Tuples\n",
    "l = [4,3,5,'wer']\n",
    "type(l)"
   ]
  },
  {
   "cell_type": "code",
   "execution_count": 133,
   "id": "48871668",
   "metadata": {},
   "outputs": [
    {
     "data": {
      "text/plain": [
       "tuple"
      ]
     },
     "execution_count": 133,
     "metadata": {},
     "output_type": "execute_result"
    }
   ],
   "source": [
    "t = (1,2,3,4,'string')\n",
    "type(t)"
   ]
  },
  {
   "cell_type": "code",
   "execution_count": 134,
   "id": "13dc6939",
   "metadata": {},
   "outputs": [
    {
     "data": {
      "text/plain": [
       "'string'"
      ]
     },
     "execution_count": 134,
     "metadata": {},
     "output_type": "execute_result"
    }
   ],
   "source": [
    "t[-1]"
   ]
  },
  {
   "cell_type": "code",
   "execution_count": 135,
   "id": "d7d900f5",
   "metadata": {},
   "outputs": [
    {
     "data": {
      "text/plain": [
       "('string', 4, 3, 2, 1)"
      ]
     },
     "execution_count": 135,
     "metadata": {},
     "output_type": "execute_result"
    }
   ],
   "source": [
    "t[::-1]"
   ]
  },
  {
   "cell_type": "code",
   "execution_count": 136,
   "id": "70e77f61",
   "metadata": {},
   "outputs": [
    {
     "data": {
      "text/plain": [
       "5"
      ]
     },
     "execution_count": 136,
     "metadata": {},
     "output_type": "execute_result"
    }
   ],
   "source": [
    "len(t)"
   ]
  },
  {
   "cell_type": "code",
   "execution_count": 137,
   "id": "e9ebcba9",
   "metadata": {},
   "outputs": [],
   "source": [
    "l[0]=\"Ansh\""
   ]
  },
  {
   "cell_type": "code",
   "execution_count": 138,
   "id": "fe2b6c1f",
   "metadata": {},
   "outputs": [
    {
     "data": {
      "text/plain": [
       "['Ansh', 3, 5, 'wer']"
      ]
     },
     "execution_count": 138,
     "metadata": {},
     "output_type": "execute_result"
    }
   ],
   "source": [
    "l"
   ]
  },
  {
   "cell_type": "code",
   "execution_count": 139,
   "id": "84aad6ce",
   "metadata": {},
   "outputs": [],
   "source": [
    "l[3] = 980"
   ]
  },
  {
   "cell_type": "code",
   "execution_count": 140,
   "id": "d9887a79",
   "metadata": {},
   "outputs": [
    {
     "data": {
      "text/plain": [
       "['Ansh', 3, 5, 980]"
      ]
     },
     "execution_count": 140,
     "metadata": {},
     "output_type": "execute_result"
    }
   ],
   "source": [
    "l"
   ]
  },
  {
   "cell_type": "code",
   "execution_count": 141,
   "id": "dee5ca98",
   "metadata": {},
   "outputs": [],
   "source": [
    "#tuples are immutable\n",
    "# t[0]=22"
   ]
  },
  {
   "cell_type": "code",
   "execution_count": 184,
   "id": "7ca8a51c",
   "metadata": {},
   "outputs": [],
   "source": [
    "# strings are also immutable. \n",
    "# a = \"STRING\"\n",
    "# a = 4"
   ]
  },
  {
   "cell_type": "code",
   "execution_count": 185,
   "id": "56673965",
   "metadata": {},
   "outputs": [
    {
     "data": {
      "text/plain": [
       "(1, 2, 3, 4, 'string')"
      ]
     },
     "execution_count": 185,
     "metadata": {},
     "output_type": "execute_result"
    }
   ],
   "source": [
    "t"
   ]
  },
  {
   "cell_type": "code",
   "execution_count": 186,
   "id": "0908309e",
   "metadata": {},
   "outputs": [
    {
     "name": "stdout",
     "output_type": "stream",
     "text": [
      "(1, 2, 3, 4, 'string')\n",
      "(1, 2, 3, 4, 'string')\n",
      "(1, 2, 3, 4, 'string')\n",
      "(1, 2, 3, 4, 'string')\n",
      "(1, 2, 3, 4, 'string')\n"
     ]
    }
   ],
   "source": [
    "for i in t:\n",
    "    print(t)"
   ]
  },
  {
   "cell_type": "code",
   "execution_count": 187,
   "id": "987f60a1",
   "metadata": {},
   "outputs": [],
   "source": [
    "newlist = [11,22,33,44]"
   ]
  },
  {
   "cell_type": "code",
   "execution_count": 188,
   "id": "6b4fa4da",
   "metadata": {},
   "outputs": [
    {
     "name": "stdout",
     "output_type": "stream",
     "text": [
      "11\n",
      "22\n",
      "33\n",
      "44\n"
     ]
    }
   ],
   "source": [
    "for e in range(len(newlist)):\n",
    "    print(newlist[e])\n",
    "    "
   ]
  },
  {
   "cell_type": "code",
   "execution_count": 189,
   "id": "37a37c15",
   "metadata": {},
   "outputs": [
    {
     "data": {
      "text/plain": [
       "(1, 2, 3, 4, 'string')"
      ]
     },
     "execution_count": 189,
     "metadata": {},
     "output_type": "execute_result"
    }
   ],
   "source": [
    "t "
   ]
  },
  {
   "cell_type": "code",
   "execution_count": 190,
   "id": "4806cd39",
   "metadata": {},
   "outputs": [
    {
     "name": "stdout",
     "output_type": "stream",
     "text": [
      "1\n",
      "2\n",
      "3\n",
      "4\n",
      "string\n"
     ]
    }
   ],
   "source": [
    "for i in range (len(t)):\n",
    "    print(t[i])"
   ]
  },
  {
   "cell_type": "code",
   "execution_count": 191,
   "id": "eb535404",
   "metadata": {},
   "outputs": [
    {
     "data": {
      "text/plain": [
       "tuple"
      ]
     },
     "execution_count": 191,
     "metadata": {},
     "output_type": "execute_result"
    }
   ],
   "source": [
    "type(t)"
   ]
  },
  {
   "cell_type": "code",
   "execution_count": 192,
   "id": "6560f561",
   "metadata": {},
   "outputs": [
    {
     "data": {
      "text/plain": [
       "6"
      ]
     },
     "execution_count": 192,
     "metadata": {},
     "output_type": "execute_result"
    }
   ],
   "source": [
    "pp=(1,2,1,21,1,1,1,1,)\n",
    "pp.count(1)"
   ]
  },
  {
   "cell_type": "code",
   "execution_count": 193,
   "id": "130d737e",
   "metadata": {},
   "outputs": [
    {
     "data": {
      "text/plain": [
       "3"
      ]
     },
     "execution_count": 193,
     "metadata": {},
     "output_type": "execute_result"
    }
   ],
   "source": [
    "pp.index(21)"
   ]
  },
  {
   "cell_type": "code",
   "execution_count": 194,
   "id": "de5c310a",
   "metadata": {},
   "outputs": [
    {
     "ename": "TypeError",
     "evalue": "'list' object is not callable",
     "output_type": "error",
     "traceback": [
      "\u001b[1;31m---------------------------------------------------------------------------\u001b[0m",
      "\u001b[1;31mTypeError\u001b[0m                                 Traceback (most recent call last)",
      "\u001b[1;32m<ipython-input-194-2407caa2f20e>\u001b[0m in \u001b[0;36m<module>\u001b[1;34m\u001b[0m\n\u001b[0;32m      4\u001b[0m \u001b[0msumt\u001b[0m\u001b[1;33m\u001b[0m\u001b[1;33m\u001b[0m\u001b[0m\n\u001b[0;32m      5\u001b[0m \u001b[1;31m# Converting a tuple into list to make changes like append or insert values.\u001b[0m\u001b[1;33m\u001b[0m\u001b[1;33m\u001b[0m\u001b[1;33m\u001b[0m\u001b[0m\n\u001b[1;32m----> 6\u001b[1;33m \u001b[0mlsumt\u001b[0m \u001b[1;33m=\u001b[0m \u001b[0mlist\u001b[0m\u001b[1;33m(\u001b[0m\u001b[0msumt\u001b[0m\u001b[1;33m)\u001b[0m\u001b[1;33m\u001b[0m\u001b[1;33m\u001b[0m\u001b[0m\n\u001b[0m\u001b[0;32m      7\u001b[0m \u001b[0mlsumt\u001b[0m\u001b[1;33m[\u001b[0m\u001b[1;36m3\u001b[0m\u001b[1;33m]\u001b[0m \u001b[1;33m=\u001b[0m \u001b[1;36m333333\u001b[0m\u001b[1;33m\u001b[0m\u001b[1;33m\u001b[0m\u001b[0m\n\u001b[0;32m      8\u001b[0m \u001b[0msumt\u001b[0m\u001b[1;33m=\u001b[0m\u001b[0mtuple\u001b[0m\u001b[1;33m(\u001b[0m\u001b[0mlsumt\u001b[0m\u001b[1;33m)\u001b[0m\u001b[1;33m\u001b[0m\u001b[1;33m\u001b[0m\u001b[0m\n",
      "\u001b[1;31mTypeError\u001b[0m: 'list' object is not callable"
     ]
    }
   ],
   "source": [
    "t1 = (1,22,33,44)\n",
    "t2 = (55,66,77,88)\n",
    "sumt = t1+t2\n",
    "sumt\n",
    "# Converting a tuple into list to make changes like append or insert values.\n",
    "lsumt = list(sumt)\n",
    "lsumt[3] = 333333\n",
    "sumt=tuple(lsumt)\n",
    "type(sumt)"
   ]
  },
  {
   "cell_type": "code",
   "execution_count": 206,
   "id": "8e862ae0",
   "metadata": {},
   "outputs": [
    {
     "ename": "TypeError",
     "evalue": "'set' object is not callable",
     "output_type": "error",
     "traceback": [
      "\u001b[1;31m---------------------------------------------------------------------------\u001b[0m",
      "\u001b[1;31mTypeError\u001b[0m                                 Traceback (most recent call last)",
      "\u001b[1;32m<ipython-input-206-81e0fbf664b2>\u001b[0m in \u001b[0;36m<module>\u001b[1;34m\u001b[0m\n\u001b[0;32m      1\u001b[0m \u001b[1;31m# About Set\u001b[0m\u001b[1;33m\u001b[0m\u001b[1;33m\u001b[0m\u001b[1;33m\u001b[0m\u001b[0m\n\u001b[1;32m----> 2\u001b[1;33m \u001b[0ms\u001b[0m \u001b[1;33m=\u001b[0m \u001b[0mset\u001b[0m\u001b[1;33m(\u001b[0m\u001b[1;33m[\u001b[0m\u001b[1;36m1\u001b[0m\u001b[1;33m,\u001b[0m\u001b[1;36m2\u001b[0m\u001b[1;33m,\u001b[0m\u001b[1;36m3\u001b[0m\u001b[1;33m,\u001b[0m\u001b[1;36m4\u001b[0m\u001b[1;33m,\u001b[0m\u001b[1;36m1\u001b[0m\u001b[1;33m,\u001b[0m\u001b[1;36m1\u001b[0m\u001b[1;33m,\u001b[0m\u001b[1;36m2\u001b[0m\u001b[1;33m,\u001b[0m\u001b[1;36m3\u001b[0m\u001b[1;33m,\u001b[0m\u001b[1;36m4\u001b[0m\u001b[1;33m,\u001b[0m\u001b[1;36m3\u001b[0m\u001b[1;33m,\u001b[0m\u001b[1;36m2\u001b[0m\u001b[1;33m,\u001b[0m\u001b[1;36m3\u001b[0m\u001b[1;33m,\u001b[0m\u001b[1;36m4\u001b[0m\u001b[1;33m]\u001b[0m\u001b[1;33m)\u001b[0m\u001b[1;33m\u001b[0m\u001b[1;33m\u001b[0m\u001b[0m\n\u001b[0m\u001b[0;32m      3\u001b[0m \u001b[0ms\u001b[0m\u001b[1;33m\u001b[0m\u001b[1;33m\u001b[0m\u001b[0m\n",
      "\u001b[1;31mTypeError\u001b[0m: 'set' object is not callable"
     ]
    }
   ],
   "source": [
    "# About Set \n",
    "s = set([1,2,3,4,1,1,2,3,4,3,2,3,4])\n",
    "s"
   ]
  },
  {
   "cell_type": "code",
   "execution_count": null,
   "id": "768eaa81",
   "metadata": {},
   "outputs": [],
   "source": [
    "type(s)"
   ]
  },
  {
   "cell_type": "code",
   "execution_count": null,
   "id": "21e28da2",
   "metadata": {},
   "outputs": [],
   "source": [
    "list = [1,1,3,3,2,2,4,4]"
   ]
  },
  {
   "cell_type": "code",
   "execution_count": 154,
   "id": "75af5e50",
   "metadata": {},
   "outputs": [
    {
     "ename": "TypeError",
     "evalue": "'set' object is not callable",
     "output_type": "error",
     "traceback": [
      "\u001b[1;31m---------------------------------------------------------------------------\u001b[0m",
      "\u001b[1;31mTypeError\u001b[0m                                 Traceback (most recent call last)",
      "\u001b[1;32m<ipython-input-154-219757e8295a>\u001b[0m in \u001b[0;36m<module>\u001b[1;34m\u001b[0m\n\u001b[1;32m----> 1\u001b[1;33m \u001b[0msset\u001b[0m\u001b[1;33m=\u001b[0m\u001b[0mset\u001b[0m\u001b[1;33m(\u001b[0m\u001b[0mlist\u001b[0m\u001b[1;33m)\u001b[0m\u001b[1;33m\u001b[0m\u001b[1;33m\u001b[0m\u001b[0m\n\u001b[0m",
      "\u001b[1;31mTypeError\u001b[0m: 'set' object is not callable"
     ]
    }
   ],
   "source": [
    "sset=set(list)"
   ]
  },
  {
   "cell_type": "code",
   "execution_count": null,
   "id": "1a602d4e",
   "metadata": {},
   "outputs": [],
   "source": [
    "sset"
   ]
  },
  {
   "cell_type": "code",
   "execution_count": null,
   "id": "997bbebb",
   "metadata": {},
   "outputs": [],
   "source": [
    "for i in sset:\n",
    "    print(sset)"
   ]
  },
  {
   "cell_type": "code",
   "execution_count": 155,
   "id": "274dc477",
   "metadata": {},
   "outputs": [],
   "source": [
    "d = {3,4,5,6}"
   ]
  },
  {
   "cell_type": "code",
   "execution_count": 156,
   "id": "da0b8555",
   "metadata": {},
   "outputs": [
    {
     "data": {
      "text/plain": [
       "set"
      ]
     },
     "execution_count": 156,
     "metadata": {},
     "output_type": "execute_result"
    }
   ],
   "source": [
    "type(d)"
   ]
  },
  {
   "cell_type": "code",
   "execution_count": 157,
   "id": "103328f7",
   "metadata": {},
   "outputs": [
    {
     "data": {
      "text/plain": [
       "{3, 4, 5, 6}"
      ]
     },
     "execution_count": 157,
     "metadata": {},
     "output_type": "execute_result"
    }
   ],
   "source": [
    "d"
   ]
  },
  {
   "cell_type": "code",
   "execution_count": 158,
   "id": "72b39a26",
   "metadata": {},
   "outputs": [],
   "source": [
    "set = {23,54,6,434,5}"
   ]
  },
  {
   "cell_type": "code",
   "execution_count": 159,
   "id": "109f9612",
   "metadata": {},
   "outputs": [
    {
     "data": {
      "text/plain": [
       "{5, 6, 23, 54, 434}"
      ]
     },
     "execution_count": 159,
     "metadata": {},
     "output_type": "execute_result"
    }
   ],
   "source": [
    "set"
   ]
  },
  {
   "cell_type": "code",
   "execution_count": 160,
   "id": "413ee4d2",
   "metadata": {},
   "outputs": [
    {
     "name": "stdout",
     "output_type": "stream",
     "text": [
      "5\n",
      "6\n",
      "434\n",
      "54\n",
      "23\n"
     ]
    }
   ],
   "source": [
    "for i in set:\n",
    "    print(i)"
   ]
  },
  {
   "cell_type": "code",
   "execution_count": 161,
   "id": "b9260012",
   "metadata": {},
   "outputs": [
    {
     "data": {
      "text/plain": [
       "{5, 6, 23, 54, 434}"
      ]
     },
     "execution_count": 161,
     "metadata": {},
     "output_type": "execute_result"
    }
   ],
   "source": [
    "set"
   ]
  },
  {
   "cell_type": "code",
   "execution_count": 162,
   "id": "0933265c",
   "metadata": {},
   "outputs": [],
   "source": [
    "# Dictionary\n",
    "\n",
    "d = {\"Anshul\":100000, \"Mayank\":125000, \"Gerry\":95000, \"Anshul_ P\":5000}\n"
   ]
  },
  {
   "cell_type": "code",
   "execution_count": 163,
   "id": "1cbe52e7",
   "metadata": {},
   "outputs": [
    {
     "data": {
      "text/plain": [
       "{'Anshul': 100000, 'Mayank': 125000, 'Gerry': 95000, 'Anshul_ P': 5000}"
      ]
     },
     "execution_count": 163,
     "metadata": {},
     "output_type": "execute_result"
    }
   ],
   "source": [
    "d"
   ]
  },
  {
   "cell_type": "code",
   "execution_count": 164,
   "id": "dfb34e1d",
   "metadata": {},
   "outputs": [],
   "source": [
    "dic = {\"Anshul\":[1,23,4,[4342,2,2,2]],\"Rahul\":{'a':2,'b':3}}"
   ]
  },
  {
   "cell_type": "code",
   "execution_count": 165,
   "id": "de3f8015",
   "metadata": {},
   "outputs": [
    {
     "data": {
      "text/plain": [
       "[1, 23, 4, [4342, 2, 2, 2]]"
      ]
     },
     "execution_count": 165,
     "metadata": {},
     "output_type": "execute_result"
    }
   ],
   "source": [
    "dic[\"Anshul\"]"
   ]
  },
  {
   "cell_type": "code",
   "execution_count": 166,
   "id": "d2b6b569",
   "metadata": {},
   "outputs": [
    {
     "data": {
      "text/plain": [
       "4342"
      ]
     },
     "execution_count": 166,
     "metadata": {},
     "output_type": "execute_result"
    }
   ],
   "source": [
    "dic[\"Anshul\"][3][0]"
   ]
  },
  {
   "cell_type": "code",
   "execution_count": 167,
   "id": "f4491f42",
   "metadata": {},
   "outputs": [
    {
     "data": {
      "text/plain": [
       "95000"
      ]
     },
     "execution_count": 167,
     "metadata": {},
     "output_type": "execute_result"
    }
   ],
   "source": [
    "d[\"Gerry\"]"
   ]
  },
  {
   "cell_type": "code",
   "execution_count": 168,
   "id": "c2acf75e",
   "metadata": {},
   "outputs": [
    {
     "data": {
      "text/plain": [
       "dict"
      ]
     },
     "execution_count": 168,
     "metadata": {},
     "output_type": "execute_result"
    }
   ],
   "source": [
    "type(dic[\"Rahul\"])"
   ]
  },
  {
   "cell_type": "code",
   "execution_count": 169,
   "id": "fb9d807f",
   "metadata": {},
   "outputs": [
    {
     "data": {
      "text/plain": [
       "3"
      ]
     },
     "execution_count": 169,
     "metadata": {},
     "output_type": "execute_result"
    }
   ],
   "source": [
    "dic[\"Rahul\"]['b']"
   ]
  },
  {
   "cell_type": "code",
   "execution_count": 170,
   "id": "f5cfe33d",
   "metadata": {},
   "outputs": [
    {
     "name": "stdout",
     "output_type": "stream",
     "text": [
      "Anshul\n",
      "Rahul\n"
     ]
    }
   ],
   "source": [
    "for i in dic:\n",
    "    print(i)"
   ]
  },
  {
   "cell_type": "code",
   "execution_count": 171,
   "id": "502794d9",
   "metadata": {},
   "outputs": [
    {
     "name": "stdout",
     "output_type": "stream",
     "text": [
      "[1, 23, 4, [4342, 2, 2, 2]]\n",
      "{'a': 2, 'b': 3}\n"
     ]
    }
   ],
   "source": [
    "for i in dic:\n",
    "    print(dic[i])"
   ]
  },
  {
   "cell_type": "code",
   "execution_count": 172,
   "id": "85b59e48",
   "metadata": {},
   "outputs": [
    {
     "name": "stdout",
     "output_type": "stream",
     "text": [
      "[1, 23, 4, [4342, 2, 2, 2]]\n",
      "{'a': 2, 'b': 3}\n"
     ]
    }
   ],
   "source": [
    "for i in dic:\n",
    "    print(dic[(i)])"
   ]
  },
  {
   "cell_type": "code",
   "execution_count": 173,
   "id": "5b0a1eed",
   "metadata": {},
   "outputs": [
    {
     "data": {
      "text/plain": [
       "dict_keys(['Anshul', 'Rahul'])"
      ]
     },
     "execution_count": 173,
     "metadata": {},
     "output_type": "execute_result"
    }
   ],
   "source": [
    "dic.keys()"
   ]
  },
  {
   "cell_type": "code",
   "execution_count": 174,
   "id": "ff162070",
   "metadata": {},
   "outputs": [
    {
     "name": "stdout",
     "output_type": "stream",
     "text": [
      "[1, 23, 4, [4342, 2, 2, 2]]\n",
      "{'a': 2, 'b': 3}\n"
     ]
    }
   ],
   "source": [
    "for i in dic.keys():\n",
    "    print(dic[i])"
   ]
  },
  {
   "cell_type": "code",
   "execution_count": 175,
   "id": "0260b55e",
   "metadata": {},
   "outputs": [
    {
     "data": {
      "text/plain": [
       "dict_values([[1, 23, 4, [4342, 2, 2, 2]], {'a': 2, 'b': 3}])"
      ]
     },
     "execution_count": 175,
     "metadata": {},
     "output_type": "execute_result"
    }
   ],
   "source": [
    "dic.values()"
   ]
  },
  {
   "cell_type": "code",
   "execution_count": 176,
   "id": "10921d5d",
   "metadata": {},
   "outputs": [],
   "source": [
    "m = []\n",
    "for i in dic.values():\n",
    "    if type(i)== dict:\n",
    "        for j in i:\n",
    "            m.append(j)"
   ]
  },
  {
   "cell_type": "code",
   "execution_count": 177,
   "id": "c9296c3e",
   "metadata": {},
   "outputs": [
    {
     "data": {
      "text/plain": [
       "['a', 'b']"
      ]
     },
     "execution_count": 177,
     "metadata": {},
     "output_type": "execute_result"
    }
   ],
   "source": [
    "m"
   ]
  },
  {
   "cell_type": "code",
   "execution_count": 178,
   "id": "9af3d091",
   "metadata": {},
   "outputs": [],
   "source": [
    "dic[\"Phill\"] = [33333]"
   ]
  },
  {
   "cell_type": "code",
   "execution_count": 179,
   "id": "0836fb8f",
   "metadata": {},
   "outputs": [
    {
     "data": {
      "text/plain": [
       "{'Anshul': [1, 23, 4, [4342, 2, 2, 2]],\n",
       " 'Rahul': {'a': 2, 'b': 3},\n",
       " 'Phill': [33333]}"
      ]
     },
     "execution_count": 179,
     "metadata": {},
     "output_type": "execute_result"
    }
   ],
   "source": [
    "dic"
   ]
  },
  {
   "cell_type": "code",
   "execution_count": 182,
   "id": "1cf9a892",
   "metadata": {},
   "outputs": [
    {
     "ename": "KeyError",
     "evalue": "'d'",
     "output_type": "error",
     "traceback": [
      "\u001b[1;31m---------------------------------------------------------------------------\u001b[0m",
      "\u001b[1;31mKeyError\u001b[0m                                  Traceback (most recent call last)",
      "\u001b[1;32m<ipython-input-182-80243811a84f>\u001b[0m in \u001b[0;36m<module>\u001b[1;34m\u001b[0m\n\u001b[1;32m----> 1\u001b[1;33m \u001b[0mdic\u001b[0m\u001b[1;33m.\u001b[0m\u001b[0mpop\u001b[0m\u001b[1;33m(\u001b[0m\u001b[1;34m'd'\u001b[0m\u001b[1;33m)\u001b[0m\u001b[1;33m\u001b[0m\u001b[1;33m\u001b[0m\u001b[0m\n\u001b[0m",
      "\u001b[1;31mKeyError\u001b[0m: 'd'"
     ]
    }
   ],
   "source": [
    "dic.pop('d')"
   ]
  },
  {
   "cell_type": "code",
   "execution_count": 196,
   "id": "ade5e831",
   "metadata": {
    "scrolled": true
   },
   "outputs": [
    {
     "data": {
      "text/plain": [
       "{'Anshul': [1, 23, 4, [4342, 2, 2, 2]],\n",
       " 'Rahul': {'a': 2, 'b': 3},\n",
       " 'Phill': [33333]}"
      ]
     },
     "execution_count": 196,
     "metadata": {},
     "output_type": "execute_result"
    }
   ],
   "source": [
    "dic"
   ]
  },
  {
   "cell_type": "code",
   "execution_count": 197,
   "id": "31567d8b",
   "metadata": {},
   "outputs": [],
   "source": [
    "#dictionary comrehension operations:\n"
   ]
  },
  {
   "cell_type": "code",
   "execution_count": 198,
   "id": "d908b52d",
   "metadata": {},
   "outputs": [],
   "source": [
    "dic1 = {}"
   ]
  },
  {
   "cell_type": "code",
   "execution_count": 199,
   "id": "6b3f1c71",
   "metadata": {},
   "outputs": [],
   "source": [
    "for i in range(10): \n",
    "    dic1[i]=i**2"
   ]
  },
  {
   "cell_type": "code",
   "execution_count": 200,
   "id": "3d3fbcdf",
   "metadata": {},
   "outputs": [
    {
     "data": {
      "text/plain": [
       "{0: 0, 1: 1, 2: 4, 3: 9, 4: 16, 5: 25, 6: 36, 7: 49, 8: 64, 9: 81}"
      ]
     },
     "execution_count": 200,
     "metadata": {},
     "output_type": "execute_result"
    }
   ],
   "source": [
    "dic1"
   ]
  },
  {
   "cell_type": "code",
   "execution_count": 201,
   "id": "7575b6d3",
   "metadata": {},
   "outputs": [],
   "source": [
    "l = [\"asd\", \"kmr\",\"dsf\",\"ret\"]"
   ]
  },
  {
   "cell_type": "code",
   "execution_count": 204,
   "id": "7016a40f",
   "metadata": {},
   "outputs": [],
   "source": [
    "d1 = {}\n",
    "for i in l:\n",
    "    d1[i] =i.upper()"
   ]
  },
  {
   "cell_type": "code",
   "execution_count": 205,
   "id": "41bd8d02",
   "metadata": {},
   "outputs": [
    {
     "data": {
      "text/plain": [
       "{'asd': 'ASD', 'kmr': 'KMR', 'dsf': 'DSF', 'ret': 'RET'}"
      ]
     },
     "execution_count": 205,
     "metadata": {},
     "output_type": "execute_result"
    }
   ],
   "source": [
    "d1"
   ]
  },
  {
   "cell_type": "code",
   "execution_count": 207,
   "id": "678a379e",
   "metadata": {},
   "outputs": [
    {
     "data": {
      "text/plain": [
       "{0: 0, 1: 1, 2: 4, 3: 9, 4: 16, 5: 25, 6: 36, 7: 49, 8: 64, 9: 81}"
      ]
     },
     "execution_count": 207,
     "metadata": {},
     "output_type": "execute_result"
    }
   ],
   "source": [
    "{i:i**2 for i in range(10)}"
   ]
  },
  {
   "cell_type": "code",
   "execution_count": 208,
   "id": "46fa4f48",
   "metadata": {},
   "outputs": [
    {
     "data": {
      "text/plain": [
       "{0: 0, 1: 5, 2: 10, 3: 15, 4: 20}"
      ]
     },
     "execution_count": 208,
     "metadata": {},
     "output_type": "execute_result"
    }
   ],
   "source": [
    "{i:i*5 for i in range(5)}"
   ]
  },
  {
   "cell_type": "code",
   "execution_count": null,
   "id": "cc0f4b56",
   "metadata": {},
   "outputs": [],
   "source": []
  }
 ],
 "metadata": {
  "kernelspec": {
   "display_name": "Python 3",
   "language": "python",
   "name": "python3"
  },
  "language_info": {
   "codemirror_mode": {
    "name": "ipython",
    "version": 3
   },
   "file_extension": ".py",
   "mimetype": "text/x-python",
   "name": "python",
   "nbconvert_exporter": "python",
   "pygments_lexer": "ipython3",
   "version": "3.8.8"
  }
 },
 "nbformat": 4,
 "nbformat_minor": 5
}
