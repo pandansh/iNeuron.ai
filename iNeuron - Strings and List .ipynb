{
 "cells": [
  {
   "cell_type": "code",
   "execution_count": 1,
   "id": "2fba7aeb",
   "metadata": {},
   "outputs": [],
   "source": [
    "a = \"Anshul\""
   ]
  },
  {
   "cell_type": "code",
   "execution_count": 2,
   "id": "9d98557c",
   "metadata": {},
   "outputs": [
    {
     "data": {
      "text/plain": [
       "'Anshul1'"
      ]
     },
     "execution_count": 2,
     "metadata": {},
     "output_type": "execute_result"
    }
   ],
   "source": [
    "a+str(1)"
   ]
  },
  {
   "cell_type": "code",
   "execution_count": 3,
   "id": "099566e8",
   "metadata": {},
   "outputs": [],
   "source": [
    "b = (a+\" \")*10"
   ]
  },
  {
   "cell_type": "code",
   "execution_count": 4,
   "id": "97c1b366",
   "metadata": {},
   "outputs": [
    {
     "data": {
      "text/plain": [
       "'Anshul Anshul Anshul Anshul Anshul Anshul Anshul Anshul Anshul Anshul '"
      ]
     },
     "execution_count": 4,
     "metadata": {},
     "output_type": "execute_result"
    }
   ],
   "source": [
    "b\n"
   ]
  },
  {
   "cell_type": "code",
   "execution_count": 5,
   "id": "a422e701",
   "metadata": {},
   "outputs": [
    {
     "data": {
      "text/plain": [
       "'ANSHUL ANSHUL ANSHUL ANSHUL ANSHUL ANSHUL ANSHUL ANSHUL ANSHUL ANSHUL '"
      ]
     },
     "execution_count": 5,
     "metadata": {},
     "output_type": "execute_result"
    }
   ],
   "source": [
    "b.upper()"
   ]
  },
  {
   "cell_type": "code",
   "execution_count": 6,
   "id": "466c6a03",
   "metadata": {},
   "outputs": [
    {
     "data": {
      "text/plain": [
       "'Anshul Anshul Anshul Anshul Anshul Anshul Anshul Anshul Anshul Anshul '"
      ]
     },
     "execution_count": 6,
     "metadata": {},
     "output_type": "execute_result"
    }
   ],
   "source": [
    "b"
   ]
  },
  {
   "cell_type": "code",
   "execution_count": 7,
   "id": "4edc12fc",
   "metadata": {},
   "outputs": [
    {
     "data": {
      "text/plain": [
       "'anshul anshul anshul anshul anshul anshul anshul anshul anshul anshul '"
      ]
     },
     "execution_count": 7,
     "metadata": {},
     "output_type": "execute_result"
    }
   ],
   "source": [
    "b.lower()"
   ]
  },
  {
   "cell_type": "code",
   "execution_count": 8,
   "id": "b8ebac4a",
   "metadata": {},
   "outputs": [],
   "source": [
    "c = \"My name is anshul\""
   ]
  },
  {
   "cell_type": "code",
   "execution_count": 9,
   "id": "f155df6c",
   "metadata": {},
   "outputs": [
    {
     "data": {
      "text/plain": [
       "'MY NAME IS ANSHUL'"
      ]
     },
     "execution_count": 9,
     "metadata": {},
     "output_type": "execute_result"
    }
   ],
   "source": [
    "c.upper()"
   ]
  },
  {
   "cell_type": "code",
   "execution_count": 10,
   "id": "c46552eb",
   "metadata": {},
   "outputs": [
    {
     "data": {
      "text/plain": [
       "list"
      ]
     },
     "execution_count": 10,
     "metadata": {},
     "output_type": "execute_result"
    }
   ],
   "source": [
    "type(c.split('_'))"
   ]
  },
  {
   "cell_type": "code",
   "execution_count": 11,
   "id": "7853cb6f",
   "metadata": {},
   "outputs": [
    {
     "data": {
      "text/plain": [
       "tuple"
      ]
     },
     "execution_count": 11,
     "metadata": {},
     "output_type": "execute_result"
    }
   ],
   "source": [
    "type(c.partition('name'))"
   ]
  },
  {
   "cell_type": "code",
   "execution_count": 12,
   "id": "28027d27",
   "metadata": {},
   "outputs": [],
   "source": [
    "c = \"My name is anshul\"\n"
   ]
  },
  {
   "cell_type": "code",
   "execution_count": 13,
   "id": "91cac450",
   "metadata": {},
   "outputs": [
    {
     "data": {
      "text/plain": [
       "8"
      ]
     },
     "execution_count": 13,
     "metadata": {},
     "output_type": "execute_result"
    }
   ],
   "source": [
    "c.find(\"i\")"
   ]
  },
  {
   "cell_type": "code",
   "execution_count": 14,
   "id": "05b0c6cb",
   "metadata": {},
   "outputs": [
    {
     "data": {
      "text/plain": [
       "'*****************************************My name is anshul******************************************'"
      ]
     },
     "execution_count": 14,
     "metadata": {},
     "output_type": "execute_result"
    }
   ],
   "source": [
    "c.center(100,'*')"
   ]
  },
  {
   "cell_type": "code",
   "execution_count": 15,
   "id": "0be946c4",
   "metadata": {},
   "outputs": [
    {
     "data": {
      "text/plain": [
       "'ansh    pandye'"
      ]
     },
     "execution_count": 15,
     "metadata": {},
     "output_type": "execute_result"
    }
   ],
   "source": [
    "'ansh\\tpandye'.expandtabs()"
   ]
  },
  {
   "cell_type": "code",
   "execution_count": 16,
   "id": "b385b690",
   "metadata": {},
   "outputs": [
    {
     "data": {
      "text/plain": [
       "'this place is very good'"
      ]
     },
     "execution_count": 16,
     "metadata": {},
     "output_type": "execute_result"
    }
   ],
   "source": [
    "'this place is {} good'.format('very')"
   ]
  },
  {
   "cell_type": "code",
   "execution_count": 17,
   "id": "34c029e4",
   "metadata": {},
   "outputs": [
    {
     "name": "stdout",
     "output_type": "stream",
     "text": [
      "enter your first name Anshul\n",
      "enter your last name Pandey\n"
     ]
    },
    {
     "data": {
      "text/plain": [
       "'may name is Pandey Anshul'"
      ]
     },
     "execution_count": 17,
     "metadata": {},
     "output_type": "execute_result"
    }
   ],
   "source": [
    "d = input(\"enter your first name \")\n",
    "e = input(\"enter your last name \")\n",
    "\n",
    "\"may name is {} {}\".format(e,d)"
   ]
  },
  {
   "cell_type": "code",
   "execution_count": 31,
   "id": "825b58de",
   "metadata": {},
   "outputs": [],
   "source": [
    "f = \"Hello\""
   ]
  },
  {
   "cell_type": "code",
   "execution_count": 32,
   "id": "a5b52ec6",
   "metadata": {},
   "outputs": [
    {
     "data": {
      "text/plain": [
       "True"
      ]
     },
     "execution_count": 32,
     "metadata": {},
     "output_type": "execute_result"
    }
   ],
   "source": [
    "f.isalnum()"
   ]
  },
  {
   "cell_type": "code",
   "execution_count": 33,
   "id": "e5511e48",
   "metadata": {},
   "outputs": [
    {
     "data": {
      "text/plain": [
       "False"
      ]
     },
     "execution_count": 33,
     "metadata": {},
     "output_type": "execute_result"
    }
   ],
   "source": [
    "f.islower()"
   ]
  },
  {
   "cell_type": "code",
   "execution_count": 34,
   "id": "a680e255",
   "metadata": {},
   "outputs": [
    {
     "data": {
      "text/plain": [
       "True"
      ]
     },
     "execution_count": 34,
     "metadata": {},
     "output_type": "execute_result"
    }
   ],
   "source": [
    "f.istitle()"
   ]
  },
  {
   "cell_type": "code",
   "execution_count": 35,
   "id": "2cb1c746",
   "metadata": {},
   "outputs": [
    {
     "data": {
      "text/plain": [
       "True"
      ]
     },
     "execution_count": 35,
     "metadata": {},
     "output_type": "execute_result"
    }
   ],
   "source": [
    "f.endswith('o')"
   ]
  },
  {
   "cell_type": "code",
   "execution_count": 36,
   "id": "5ebe75fb",
   "metadata": {},
   "outputs": [
    {
     "data": {
      "text/plain": [
       "5"
      ]
     },
     "execution_count": 36,
     "metadata": {},
     "output_type": "execute_result"
    }
   ],
   "source": [
    "len(f)"
   ]
  },
  {
   "cell_type": "code",
   "execution_count": 37,
   "id": "2dee03ec",
   "metadata": {},
   "outputs": [
    {
     "name": "stdout",
     "output_type": "stream",
     "text": [
      "Hello\n"
     ]
    }
   ],
   "source": [
    "print(f)"
   ]
  },
  {
   "cell_type": "code",
   "execution_count": 38,
   "id": "5864fc72",
   "metadata": {},
   "outputs": [
    {
     "data": {
      "text/plain": [
       "'Hello'"
      ]
     },
     "execution_count": 38,
     "metadata": {},
     "output_type": "execute_result"
    }
   ],
   "source": [
    " f"
   ]
  },
  {
   "cell_type": "code",
   "execution_count": 39,
   "id": "bf1869eb",
   "metadata": {},
   "outputs": [
    {
     "name": "stdout",
     "output_type": "stream",
     "text": [
      "['H', 'e', 'l', 'l', 'o']\n"
     ]
    }
   ],
   "source": [
    "print(list(f))"
   ]
  },
  {
   "cell_type": "code",
   "execution_count": 40,
   "id": "d1a03125",
   "metadata": {},
   "outputs": [],
   "source": [
    "m = []\n",
    "for i in f: \n",
    "    m.append(i)\n",
    "    \n",
    "gt = m*3\n"
   ]
  },
  {
   "cell_type": "code",
   "execution_count": 75,
   "id": "1b0310de",
   "metadata": {},
   "outputs": [
    {
     "data": {
      "text/plain": [
       "['H', 'e', 'l', 'l', 'o', 'H', 'e', 'l', 'l', 'o', 'H', 'e', 'l', 'l', 'o']"
      ]
     },
     "execution_count": 75,
     "metadata": {},
     "output_type": "execute_result"
    }
   ],
   "source": [
    "gt"
   ]
  },
  {
   "cell_type": "code",
   "execution_count": 79,
   "id": "a8e12878",
   "metadata": {},
   "outputs": [],
   "source": [
    "x = (gt+ [\"hello\"])"
   ]
  },
  {
   "cell_type": "code",
   "execution_count": 80,
   "id": "1cc3c798",
   "metadata": {},
   "outputs": [
    {
     "ename": "TypeError",
     "evalue": "append() takes exactly one argument (2 given)",
     "output_type": "error",
     "traceback": [
      "\u001b[1;31m---------------------------------------------------------------------------\u001b[0m",
      "\u001b[1;31mTypeError\u001b[0m                                 Traceback (most recent call last)",
      "\u001b[1;32m<ipython-input-80-7d3e7da54cc5>\u001b[0m in \u001b[0;36m<module>\u001b[1;34m\u001b[0m\n\u001b[1;32m----> 1\u001b[1;33m \u001b[0mx\u001b[0m\u001b[1;33m.\u001b[0m\u001b[0mappend\u001b[0m\u001b[1;33m(\u001b[0m\u001b[1;36m1\u001b[0m\u001b[1;33m,\u001b[0m\u001b[1;34m\"xxx\"\u001b[0m\u001b[1;33m)\u001b[0m\u001b[1;33m\u001b[0m\u001b[1;33m\u001b[0m\u001b[0m\n\u001b[0m",
      "\u001b[1;31mTypeError\u001b[0m: append() takes exactly one argument (2 given)"
     ]
    }
   ],
   "source": [
    "x.append(1,\"xxx\")"
   ]
  },
  {
   "cell_type": "code",
   "execution_count": 81,
   "id": "a73cc1c0",
   "metadata": {},
   "outputs": [
    {
     "data": {
      "text/plain": [
       "['H',\n",
       " 'e',\n",
       " 'l',\n",
       " 'l',\n",
       " 'o',\n",
       " 'H',\n",
       " 'e',\n",
       " 'l',\n",
       " 'l',\n",
       " 'o',\n",
       " 'H',\n",
       " 'e',\n",
       " 'l',\n",
       " 'l',\n",
       " 'o',\n",
       " 'hello']"
      ]
     },
     "execution_count": 81,
     "metadata": {},
     "output_type": "execute_result"
    }
   ],
   "source": [
    "x"
   ]
  },
  {
   "cell_type": "code",
   "execution_count": 82,
   "id": "5d68c58b",
   "metadata": {},
   "outputs": [],
   "source": [
    "x.insert(5,\"ttt\")"
   ]
  },
  {
   "cell_type": "code",
   "execution_count": 83,
   "id": "7717a2bc",
   "metadata": {},
   "outputs": [
    {
     "data": {
      "text/plain": [
       "['H',\n",
       " 'e',\n",
       " 'l',\n",
       " 'l',\n",
       " 'o',\n",
       " 'ttt',\n",
       " 'H',\n",
       " 'e',\n",
       " 'l',\n",
       " 'l',\n",
       " 'o',\n",
       " 'H',\n",
       " 'e',\n",
       " 'l',\n",
       " 'l',\n",
       " 'o',\n",
       " 'hello']"
      ]
     },
     "execution_count": 83,
     "metadata": {},
     "output_type": "execute_result"
    }
   ],
   "source": [
    "x"
   ]
  },
  {
   "cell_type": "code",
   "execution_count": 84,
   "id": "7ec5be06",
   "metadata": {},
   "outputs": [],
   "source": [
    "x.insert(-1, \"333333\")"
   ]
  },
  {
   "cell_type": "code",
   "execution_count": 85,
   "id": "73bcf80f",
   "metadata": {},
   "outputs": [
    {
     "data": {
      "text/plain": [
       "['H',\n",
       " 'e',\n",
       " 'l',\n",
       " 'l',\n",
       " 'o',\n",
       " 'ttt',\n",
       " 'H',\n",
       " 'e',\n",
       " 'l',\n",
       " 'l',\n",
       " 'o',\n",
       " 'H',\n",
       " 'e',\n",
       " 'l',\n",
       " 'l',\n",
       " 'o',\n",
       " '333333',\n",
       " 'hello']"
      ]
     },
     "execution_count": 85,
     "metadata": {},
     "output_type": "execute_result"
    }
   ],
   "source": [
    "x"
   ]
  },
  {
   "cell_type": "code",
   "execution_count": 86,
   "id": "b649bbc6",
   "metadata": {},
   "outputs": [],
   "source": [
    "x.insert(-3,f)"
   ]
  },
  {
   "cell_type": "code",
   "execution_count": 87,
   "id": "066fb35e",
   "metadata": {},
   "outputs": [
    {
     "data": {
      "text/plain": [
       "['H',\n",
       " 'e',\n",
       " 'l',\n",
       " 'l',\n",
       " 'o',\n",
       " 'ttt',\n",
       " 'H',\n",
       " 'e',\n",
       " 'l',\n",
       " 'l',\n",
       " 'o',\n",
       " 'H',\n",
       " 'e',\n",
       " 'l',\n",
       " 'l',\n",
       " 'Hello',\n",
       " 'o',\n",
       " '333333',\n",
       " 'hello']"
      ]
     },
     "execution_count": 87,
     "metadata": {},
     "output_type": "execute_result"
    }
   ],
   "source": [
    "x"
   ]
  },
  {
   "cell_type": "code",
   "execution_count": 88,
   "id": "43b38c1e",
   "metadata": {},
   "outputs": [
    {
     "data": {
      "text/plain": [
       "'hello'"
      ]
     },
     "execution_count": 88,
     "metadata": {},
     "output_type": "execute_result"
    }
   ],
   "source": [
    "x.pop()"
   ]
  },
  {
   "cell_type": "code",
   "execution_count": 89,
   "id": "010594b4",
   "metadata": {},
   "outputs": [
    {
     "data": {
      "text/plain": [
       "'l'"
      ]
     },
     "execution_count": 89,
     "metadata": {},
     "output_type": "execute_result"
    }
   ],
   "source": [
    "x.pop(2)"
   ]
  },
  {
   "cell_type": "code",
   "execution_count": 90,
   "id": "aec41f5a",
   "metadata": {},
   "outputs": [
    {
     "data": {
      "text/plain": [
       "['H',\n",
       " 'e',\n",
       " 'l',\n",
       " 'o',\n",
       " 'ttt',\n",
       " 'H',\n",
       " 'e',\n",
       " 'l',\n",
       " 'l',\n",
       " 'o',\n",
       " 'H',\n",
       " 'e',\n",
       " 'l',\n",
       " 'l',\n",
       " 'Hello',\n",
       " 'o',\n",
       " '333333']"
      ]
     },
     "execution_count": 90,
     "metadata": {},
     "output_type": "execute_result"
    }
   ],
   "source": [
    "x"
   ]
  },
  {
   "cell_type": "code",
   "execution_count": 91,
   "id": "d4b8ec1d",
   "metadata": {},
   "outputs": [
    {
     "data": {
      "text/plain": [
       "['333333',\n",
       " 'o',\n",
       " 'Hello',\n",
       " 'l',\n",
       " 'l',\n",
       " 'e',\n",
       " 'H',\n",
       " 'o',\n",
       " 'l',\n",
       " 'l',\n",
       " 'e',\n",
       " 'H',\n",
       " 'ttt',\n",
       " 'o',\n",
       " 'l',\n",
       " 'e',\n",
       " 'H']"
      ]
     },
     "execution_count": 91,
     "metadata": {},
     "output_type": "execute_result"
    }
   ],
   "source": [
    "x[::-1]"
   ]
  },
  {
   "cell_type": "code",
   "execution_count": 92,
   "id": "928b38b9",
   "metadata": {},
   "outputs": [
    {
     "name": "stdout",
     "output_type": "stream",
     "text": [
      "None\n"
     ]
    }
   ],
   "source": [
    "print(x.reverse())"
   ]
  },
  {
   "cell_type": "code",
   "execution_count": 93,
   "id": "09f69b91",
   "metadata": {},
   "outputs": [
    {
     "data": {
      "text/plain": [
       "['333333',\n",
       " 'o',\n",
       " 'Hello',\n",
       " 'l',\n",
       " 'l',\n",
       " 'e',\n",
       " 'H',\n",
       " 'o',\n",
       " 'l',\n",
       " 'l',\n",
       " 'e',\n",
       " 'H',\n",
       " 'ttt',\n",
       " 'o',\n",
       " 'l',\n",
       " 'e',\n",
       " 'H']"
      ]
     },
     "execution_count": 93,
     "metadata": {},
     "output_type": "execute_result"
    }
   ],
   "source": [
    "x"
   ]
  },
  {
   "cell_type": "code",
   "execution_count": 94,
   "id": "9547d7ab",
   "metadata": {},
   "outputs": [
    {
     "data": {
      "text/plain": [
       "['333333',\n",
       " 'o',\n",
       " 'Hello',\n",
       " 'l',\n",
       " 'l',\n",
       " 'e',\n",
       " 'H',\n",
       " 'o',\n",
       " 'l',\n",
       " 'l',\n",
       " 'e',\n",
       " 'H',\n",
       " 'ttt',\n",
       " 'o',\n",
       " 'l',\n",
       " 'e',\n",
       " 'H']"
      ]
     },
     "execution_count": 94,
     "metadata": {},
     "output_type": "execute_result"
    }
   ],
   "source": [
    "x\n"
   ]
  },
  {
   "cell_type": "code",
   "execution_count": 95,
   "id": "5d7b08d8",
   "metadata": {},
   "outputs": [
    {
     "data": {
      "text/plain": [
       "['H',\n",
       " 'e',\n",
       " 'l',\n",
       " 'o',\n",
       " 'ttt',\n",
       " 'H',\n",
       " 'e',\n",
       " 'l',\n",
       " 'l',\n",
       " 'o',\n",
       " 'H',\n",
       " 'e',\n",
       " 'l',\n",
       " 'l',\n",
       " 'Hello',\n",
       " 'o',\n",
       " '333333']"
      ]
     },
     "execution_count": 95,
     "metadata": {},
     "output_type": "execute_result"
    }
   ],
   "source": [
    "x.reverse()\n",
    "x"
   ]
  },
  {
   "cell_type": "code",
   "execution_count": 96,
   "id": "0f1ef18c",
   "metadata": {},
   "outputs": [],
   "source": [
    "x.sort( )"
   ]
  },
  {
   "cell_type": "code",
   "execution_count": 97,
   "id": "5e55614a",
   "metadata": {},
   "outputs": [
    {
     "data": {
      "text/plain": [
       "['333333',\n",
       " 'H',\n",
       " 'H',\n",
       " 'H',\n",
       " 'Hello',\n",
       " 'e',\n",
       " 'e',\n",
       " 'e',\n",
       " 'l',\n",
       " 'l',\n",
       " 'l',\n",
       " 'l',\n",
       " 'l',\n",
       " 'o',\n",
       " 'o',\n",
       " 'o',\n",
       " 'ttt']"
      ]
     },
     "execution_count": 97,
     "metadata": {},
     "output_type": "execute_result"
    }
   ],
   "source": [
    "x"
   ]
  },
  {
   "cell_type": "code",
   "execution_count": 100,
   "id": "50d8fe13",
   "metadata": {},
   "outputs": [],
   "source": [
    "x.sort(reverse=True)"
   ]
  },
  {
   "cell_type": "code",
   "execution_count": 101,
   "id": "827deac6",
   "metadata": {},
   "outputs": [
    {
     "data": {
      "text/plain": [
       "['ttt',\n",
       " 'o',\n",
       " 'o',\n",
       " 'o',\n",
       " 'l',\n",
       " 'l',\n",
       " 'l',\n",
       " 'l',\n",
       " 'l',\n",
       " 'e',\n",
       " 'e',\n",
       " 'e',\n",
       " 'Hello',\n",
       " 'H',\n",
       " 'H',\n",
       " 'H',\n",
       " '333333']"
      ]
     },
     "execution_count": 101,
     "metadata": {},
     "output_type": "execute_result"
    }
   ],
   "source": [
    "x\n"
   ]
  },
  {
   "cell_type": "code",
   "execution_count": 146,
   "id": "b59394ff",
   "metadata": {},
   "outputs": [],
   "source": [
    "a1 = [3,4,6,79,900]\n",
    "b1 = [22,564,65,8]\n",
    "c1 = [3,5,76,835,9,76,554,5,6,23]"
   ]
  },
  {
   "cell_type": "code",
   "execution_count": 103,
   "id": "8cbc035f",
   "metadata": {},
   "outputs": [
    {
     "data": {
      "text/plain": [
       "[[3, 4, 6, 79, 900], [22, 564, 65, 8], [3, 5, 76, 835, 9, 76, 554, 5, 6, 23]]"
      ]
     },
     "execution_count": 103,
     "metadata": {},
     "output_type": "execute_result"
    }
   ],
   "source": [
    "d1 = [a1,b1,c1]\n",
    "d1"
   ]
  },
  {
   "cell_type": "code",
   "execution_count": 152,
   "id": "5ec20d86",
   "metadata": {},
   "outputs": [
    {
     "data": {
      "text/plain": [
       "[[3, 4, 6, 79, 900], [22, 564, 65, 8], [3, 5, 76, 835, 9, 76, 554, 5, 6, 23]]"
      ]
     },
     "execution_count": 152,
     "metadata": {},
     "output_type": "execute_result"
    }
   ],
   "source": [
    "z = [a1,b1,c1]\n",
    "z"
   ]
  },
  {
   "cell_type": "code",
   "execution_count": 158,
   "id": "87cc6c7f",
   "metadata": {},
   "outputs": [],
   "source": [
    "t = []\n",
    "zrev = z[::-1]\n",
    "\n",
    "for o in zrev:\n",
    "    t.append(o[::-1])"
   ]
  },
  {
   "cell_type": "code",
   "execution_count": 163,
   "id": "edf19655",
   "metadata": {},
   "outputs": [
    {
     "data": {
      "text/plain": [
       "[[3, 5, 76, 835, 9, 76, 554, 5, 6, 23], [22, 564, 65, 8], [3, 4, 6, 79, 900]]"
      ]
     },
     "execution_count": 163,
     "metadata": {},
     "output_type": "execute_result"
    }
   ],
   "source": [
    "zrev"
   ]
  },
  {
   "cell_type": "code",
   "execution_count": 164,
   "id": "f7e6424d",
   "metadata": {},
   "outputs": [
    {
     "data": {
      "text/plain": [
       "[[23, 6, 5, 554, 76, 9, 835, 76, 5, 3], [8, 65, 564, 22], [900, 79, 6, 4, 3]]"
      ]
     },
     "execution_count": 164,
     "metadata": {},
     "output_type": "execute_result"
    }
   ],
   "source": [
    "t"
   ]
  },
  {
   "cell_type": "code",
   "execution_count": 169,
   "id": "f257ea49",
   "metadata": {},
   "outputs": [],
   "source": [
    "new = []\n",
    "for i in t: \n",
    "    new.append(i[2]*2)"
   ]
  },
  {
   "cell_type": "code",
   "execution_count": 170,
   "id": "e743c3fc",
   "metadata": {},
   "outputs": [
    {
     "data": {
      "text/plain": [
       "[10, 1128, 12]"
      ]
     },
     "execution_count": 170,
     "metadata": {},
     "output_type": "execute_result"
    }
   ],
   "source": [
    "new"
   ]
  },
  {
   "cell_type": "code",
   "execution_count": 171,
   "id": "d78b8937",
   "metadata": {},
   "outputs": [
    {
     "data": {
      "text/plain": [
       "[10, 1128, 12]"
      ]
     },
     "execution_count": 171,
     "metadata": {},
     "output_type": "execute_result"
    }
   ],
   "source": [
    "[i[2]*2 for i in t]"
   ]
  },
  {
   "cell_type": "code",
   "execution_count": 172,
   "id": "9f38ca0e",
   "metadata": {},
   "outputs": [],
   "source": [
    "s = [12,2,3,54,6,7,5678,687]\n"
   ]
  },
  {
   "cell_type": "code",
   "execution_count": 173,
   "id": "5197748b",
   "metadata": {},
   "outputs": [],
   "source": [
    "s.extend([2232,3232,232332])"
   ]
  },
  {
   "cell_type": "code",
   "execution_count": 174,
   "id": "a765a9db",
   "metadata": {},
   "outputs": [
    {
     "data": {
      "text/plain": [
       "[12, 2, 3, 54, 6, 7, 5678, 687, 2232, 3232, 232332]"
      ]
     },
     "execution_count": 174,
     "metadata": {},
     "output_type": "execute_result"
    }
   ],
   "source": [
    "s"
   ]
  },
  {
   "cell_type": "code",
   "execution_count": 177,
   "id": "519772fa",
   "metadata": {},
   "outputs": [
    {
     "data": {
      "text/plain": [
       "3"
      ]
     },
     "execution_count": 177,
     "metadata": {},
     "output_type": "execute_result"
    }
   ],
   "source": [
    "s.index(54)"
   ]
  },
  {
   "cell_type": "code",
   "execution_count": 181,
   "id": "bb919b8c",
   "metadata": {},
   "outputs": [],
   "source": [
    "tup = (1,3,'333',445)\n"
   ]
  },
  {
   "cell_type": "code",
   "execution_count": 182,
   "id": "08e0c521",
   "metadata": {},
   "outputs": [
    {
     "data": {
      "text/plain": [
       "tuple"
      ]
     },
     "execution_count": 182,
     "metadata": {},
     "output_type": "execute_result"
    }
   ],
   "source": [
    "type(tup)"
   ]
  },
  {
   "cell_type": "code",
   "execution_count": 191,
   "id": "5331104d",
   "metadata": {},
   "outputs": [
    {
     "data": {
      "text/plain": [
       "3"
      ]
     },
     "execution_count": 191,
     "metadata": {},
     "output_type": "execute_result"
    }
   ],
   "source": [
    "str = \"Anshul\" \n",
    "str.find(\"h\")"
   ]
  },
  {
   "cell_type": "code",
   "execution_count": 195,
   "id": "09780a6e",
   "metadata": {},
   "outputs": [
    {
     "data": {
      "text/plain": [
       "3"
      ]
     },
     "execution_count": 195,
     "metadata": {},
     "output_type": "execute_result"
    }
   ],
   "source": [
    "str1 = [1,2,34,4]\n",
    "str1.index(4)"
   ]
  },
  {
   "cell_type": "code",
   "execution_count": null,
   "id": "fd992047",
   "metadata": {},
   "outputs": [],
   "source": []
  }
 ],
 "metadata": {
  "kernelspec": {
   "display_name": "Python 3",
   "language": "python",
   "name": "python3"
  },
  "language_info": {
   "codemirror_mode": {
    "name": "ipython",
    "version": 3
   },
   "file_extension": ".py",
   "mimetype": "text/x-python",
   "name": "python",
   "nbconvert_exporter": "python",
   "pygments_lexer": "ipython3",
   "version": "3.8.8"
  }
 },
 "nbformat": 4,
 "nbformat_minor": 5
}
